{
 "cells": [
  {
   "cell_type": "markdown",
   "id": "greek-civilization",
   "metadata": {},
   "source": [
    "**MITx 6.419x  Data Analysis: Statistical Modeling and Computation in Applications**  \n",
    "Written report -- Homework 2  \n",
    "Student Name (s_name)  \n",
    "Collaborators: none  \n",
    "3/8/21  \n",
    "---"
   ]
  },
  {
   "cell_type": "markdown",
   "id": "plain-creator",
   "metadata": {},
   "source": [
    "### 5. Problem 2: Larger unlabeled subset\n",
    "\n",
    "#### Part 1: Visualization\n",
    "\n",
    ">A scientist tells you that cells in the brain are either excitatory neurons, inhibitory neurons, or non-neuronal cells. Cells from each of these three groups serve different functions within the brain. Within each of these three types, there are numerous distinct sub-types that a cell can be, and sub-types of the same larger class can serve similar functions. Your goal is to produce visualizations which show how the scientist's knowledge reflects in the data.\n"
   ]
  },
  {
   "cell_type": "markdown",
   "id": "cognitive-application",
   "metadata": {},
   "source": [
    " "
   ]
  },
  {
   "cell_type": "markdown",
   "id": "coastal-reading",
   "metadata": {},
   "source": [
    "  \n",
    "> **1.** Provide at least one visualization which clearly shows the existence of the three main brain cell types described by the scientist, and explain how it shows this. Your visualization should support the idea that cells from a different group (for example, excitatory vs inhibitory) can differ greatly.  \n"
   ]
  },
  {
   "cell_type": "markdown",
   "id": "connected-sailing",
   "metadata": {},
   "source": [
    " "
   ]
  },
  {
   "cell_type": "markdown",
   "id": "criminal-minnesota",
   "metadata": {},
   "source": [
    "  \n",
    "> **2.** Provide at least one visualization which supports the claim that within each of the three types, there are numerous possible sub-types for a cell. In your visualization, highlight which of the three main types these sub-types belong to. Again, explain how your visualization supports the claim.\n"
   ]
  },
  {
   "cell_type": "markdown",
   "id": "transsexual-sheffield",
   "metadata": {},
   "source": [
    " "
   ]
  },
  {
   "cell_type": "markdown",
   "id": "subject-feedback",
   "metadata": {},
   "source": [
    "  \n",
    "#### Part 2: Unsupervised Feature Selection\n",
    "\n",
    "> Now we attempt to find informative genes which can help us differentiate between cells, using only unlabeled data. A genomics researcher would use specialized, domain-specific tools to select these genes. We will instead take a general approach using logistic regression in conjunction with clustering. Briefly speaking, we will use the `p2_unsupervised` dataset to cluster the data. Treating those cluster labels as ground truth, we will fit a logistic regression model and use its coefficients to select features. Finally, to evaluate the quality of these features, we will fit another logistic regression model on the training set in `p2_evaluation`, and run it on the test set in the same folder.\n"
   ]
  },
  {
   "cell_type": "markdown",
   "id": "fresh-philippines",
   "metadata": {},
   "source": [
    " "
   ]
  },
  {
   "cell_type": "markdown",
   "id": "earned-warren",
   "metadata": {},
   "source": [
    "  \n",
    ">**1.** Using your clustering method(s) of choice, find a suitable clustering for the cells. Support your choice of clustering with appropriate visualizations and/or numerical findings. Be sure to briefly explain how you chose the number of clusters.\n"
   ]
  },
  {
   "cell_type": "markdown",
   "id": "looking-convention",
   "metadata": {},
   "source": [
    " "
   ]
  },
  {
   "cell_type": "markdown",
   "id": "rental-endorsement",
   "metadata": {},
   "source": [
    "  \n",
    ">**2.** We will now treat your cluster assignments as labels for supervised learning. Fit a logistic regression model to the original data (not principal components), with your clustering as the target labels. Since the data is high-dimensional, make sure to regularize your model using your choice of $\\ell _1$, $\\ell _2$, or elastic net, and separate the data into training and validation or use cross-validation to select your model. Report your choice of regularization parameter and validation performance.\n"
   ]
  },
  {
   "cell_type": "markdown",
   "id": "checked-flashing",
   "metadata": {},
   "source": [
    " "
   ]
  },
  {
   "cell_type": "markdown",
   "id": "distant-schedule",
   "metadata": {},
   "source": [
    "  \n",
    ">**3.** Select the features with the top 100 corresponding coefficient values (since this is a multi-class model, you can rank the coefficients using the maximum absolute value over classes, or the sum of absolute values). Take the evaluation training data and use a subset of the genes, consisting of the features you selected. Train a logistic regression classifier on this training data, and evaluate its performance on the evaluation test data. Report your score. Compare with two baselines: random features (take a random selection of 100 genes), and high-variance features (take the 100 genes with highest variance). Compare the variances of the features you selected with the highest variance features by plotting a histogram of the variances of features selected by both methods.\n"
   ]
  },
  {
   "cell_type": "markdown",
   "id": "gorgeous-salvation",
   "metadata": {},
   "source": [
    " "
   ]
  },
  {
   "cell_type": "markdown",
   "id": "organic-nightlife",
   "metadata": {},
   "source": [
    "  \n",
    "### 6. Problem 3: Influence of Hyper-parameters\n",
    "\n",
    "> The hyper-parameter choices used in data analysis techniques can have a large impact on the inferences made. As you may have encountered, finding the best choice of parameter such as perplexity in T-SNE or the number of clusters can be an ambiguous problem. We will now investigate the sensitivity of your results to changes in these hyper-parameters, with the goal of understanding how your conclusions may vary depending on these choices.\n"
   ]
  },
  {
   "cell_type": "markdown",
   "id": "narrative-methodology",
   "metadata": {},
   "source": [
    " "
   ]
  },
  {
   "cell_type": "markdown",
   "id": "discrete-dakota",
   "metadata": {},
   "source": [
    "  \n",
    ">**1.** When we created the T-SNE plot in Problem 1, we ran T-SNE on the top 50 PC's of the data. But we could have easily chosen a different number of PC's to represent the data. Run T-SNE using 10, 50, 100, 250, and 500 PC's, and plot the resulting visualization for each. What do you observe as you increase the number of PC's used?\n"
   ]
  },
  {
   "cell_type": "markdown",
   "id": "coated-worry",
   "metadata": {},
   "source": [
    " "
   ]
  },
  {
   "cell_type": "markdown",
   "id": "hungry-reporter",
   "metadata": {},
   "source": [
    "  \n",
    ">**2.** Pick three hyper-parameters below and analyze how changing the hyper-parameters affect the conclusions that can be drawn from the data. Please choose at least one hyper-parameter from each of the two categories (visualization and clustering/feature selection). At minimum, evaluate the hyper-parameters individually, but you may also evaluate how joint changes in the hyper-parameters affect the results. You may use any of the datasets we have given you in this project. For visualization hyper-parameters, you may find it productive to augment your analysis with experiments on synthetic data, though we request that you use real data in at least one demonstration.\n",
    "Some possible choices of hyper-parameters are:\n",
    "\n",
    "> **Category A (visualization):**\n",
    ">- T-SNE perplexity\n",
    ">- T-SNE learning rate\n",
    ">- T-SNE early exaggeration\n",
    ">- T-SNE initialization\n",
    ">- T-SNE number of iterations/convergence tolerance\n",
    "\n",
    "> **Category B (clustering/feature selection):**\n",
    ">- Effect of number of PC's chosen on clustering\n",
    ">- Type of clustering criterion used in hierarchical clustering (single linkage vs ward, for example)\n",
    ">- Number of clusters chosen for use in unsupervised feature selection and how it affects the quality of the chosen features\n",
    ">- Magnitude of regularization and its relation to your feature selection (for example, does under or over-regularizing the model lead to bad features being selected?)\n",
    ">- Type of regularization ($L^1$, $L^1$, elastic net) in the logistic regression step and how the resulting features selected differ\n",
    "\n",
    "> For visualization hyper-parameters, provide substantial visualizations and explanation on how the parameter affects the image.\n",
    "\n",
    "> For clustering/feature selection, provide visualizations and/or numerical results which demonstrate how different choices affect the downstream visualizations and feature selection quality.\n",
    "\n",
    "> Provide adequate explanations in words for each of these visualizations and numerical results.  \n"
   ]
  },
  {
   "cell_type": "markdown",
   "id": "attempted-grant",
   "metadata": {},
   "source": [
    " "
   ]
  },
  {
   "cell_type": "markdown",
   "id": "heard-tablet",
   "metadata": {},
   "source": [
    "  \n",
    "\n",
    "\n",
    "\n"
   ]
  },
  {
   "cell_type": "markdown",
   "id": "quantitative-wyoming",
   "metadata": {},
   "source": [
    " "
   ]
  }
 ],
 "metadata": {
  "kernelspec": {
   "display_name": "Python 3",
   "language": "python",
   "name": "python3"
  },
  "language_info": {
   "codemirror_mode": {
    "name": "ipython",
    "version": 3
   },
   "file_extension": ".py",
   "mimetype": "text/x-python",
   "name": "python",
   "nbconvert_exporter": "python",
   "pygments_lexer": "ipython3",
   "version": "3.8.5"
  }
 },
 "nbformat": 4,
 "nbformat_minor": 5
}
