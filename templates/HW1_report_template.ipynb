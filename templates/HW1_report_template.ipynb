{
 "cells": [
  {
   "cell_type": "markdown",
   "id": "modular-olympus",
   "metadata": {},
   "source": [
    "**MITx 6.419x  Data Analysis: Statistical Modeling and Computation in Applications**  \n",
    "Written report -- Homework 1  \n",
    "Student Name (s_name)  \n",
    "3/8/21  \n",
    "---"
   ]
  },
  {
   "cell_type": "markdown",
   "id": "nasty-messenger",
   "metadata": {},
   "source": [
    "### 3. Problem 1.1 The Salk Vaccine Field Trial\n",
    "\n",
    "**1. (2 points):**\n",
    "\n",
    ">How would you run a randomized controlled double-blind experiment to determine the effectiveness of the vaccine? Write down procedures for the experimenter to follow. *(Maximum 200 words.)*\n"
   ]
  },
  {
   "cell_type": "markdown",
   "id": "surrounded-russell",
   "metadata": {},
   "source": [
    " "
   ]
  },
  {
   "cell_type": "markdown",
   "id": "right-kentucky",
   "metadata": {},
   "source": [
    "  \n",
    "**2. (3 points):**\n",
    "\n",
    ">For each of the NFIP study, and the Randomized controlled double blind experiment above, which numbers (or estimates) show the effectiveness of the vaccine? Describe whether the estimates suggest the vaccine is effective. *(Maximum 200 words.)*\n"
   ]
  },
  {
   "cell_type": "markdown",
   "id": "reduced-painting",
   "metadata": {},
   "source": [
    " "
   ]
  },
  {
   "cell_type": "markdown",
   "id": "egyptian-hawaii",
   "metadata": {},
   "source": [
    "  \n",
    "**3a. (2 points):**\n",
    "\n",
    ">*Scenario:* What if Grade 1 and Grade 3 students are different from Grade 2 students in some ways? For example, what if children of different ages are susceptible to polio in different degrees?\n",
    "\n",
    "> Can such a difference influence the result from the NFIP experiment? If so, give an example of how a difference between the groups can influence the result. Describe an experimental design that will prevent this difference between groups from making the estimate not reliable. *(Maximum 200 words.)*\n"
   ]
  },
  {
   "cell_type": "markdown",
   "id": "greater-music",
   "metadata": {},
   "source": [
    " "
   ]
  },
  {
   "cell_type": "markdown",
   "id": "advisory-antique",
   "metadata": {},
   "source": [
    "  \n",
    "**3b. (2 points):**\n",
    "\n",
    ">Polio is an infectious disease. The NFIP study was not done blind; that is, the children know whether they get the vaccine or not. Could this bias the results? If so, Give an example of how it could bias the results. Describe an aspect of an experimental design that prevent this kind of bias. *(Maximum 200 words.)*\n"
   ]
  },
  {
   "cell_type": "markdown",
   "id": "motivated-apache",
   "metadata": {},
   "source": [
    " "
   ]
  },
  {
   "cell_type": "markdown",
   "id": "latin-workshop",
   "metadata": {},
   "source": [
    "  \n",
    "**3c. (2 points):**\n",
    "\n",
    ">Even if the act of \"getting vaccine\" does lead to reduced infection, it does not necessarily mean that it is the vaccine itself that leads to this result. Give an example of how this could be the case. Describe an aspect of experimental design that would eliminate biases not due to the vaccine itself. *(Maximum 200 words.)*\n"
   ]
  },
  {
   "cell_type": "markdown",
   "id": "armed-continent",
   "metadata": {},
   "source": [
    " "
   ]
  },
  {
   "cell_type": "markdown",
   "id": "empirical-shepherd",
   "metadata": {},
   "source": [
    "  \n",
    "**4. (2 points):**\n",
    "\n",
    ">In both experiments, neither control groups nor the no-consent groups got the vaccine. Yet the no-consent groups had a lower rate of polio compared to the control group. Why could that be? *(Maximum 200 words.)*\n"
   ]
  },
  {
   "cell_type": "markdown",
   "id": "military-salon",
   "metadata": {},
   "source": [
    " "
   ]
  },
  {
   "cell_type": "markdown",
   "id": "convinced-northern",
   "metadata": {},
   "source": [
    "  \n",
    "**5. (3 points):**\n",
    "\n",
    ">In the randomized controlled trial, the children whose parents refused to participate in the trial got polio at the rate of 46 per 100000, while the children whose parents consented to participate got polio at a slighter higher rate of 49 per 100000 (treatment and control groups taken together). On the basis of these numbers, in the following year, some parents refused to allow their children to participate in the experiment and be exposed to this higher risk of polio. Were their conclusion correct? What would be the consequence if a large group of parents act this way in the next year's trial? *(Maximum 200 words.)*\n"
   ]
  },
  {
   "cell_type": "markdown",
   "id": "level-southeast",
   "metadata": {},
   "source": [
    " "
   ]
  },
  {
   "cell_type": "markdown",
   "id": "authorized-intelligence",
   "metadata": {},
   "source": [
    "  \n",
    "### 5. Problem 1.3\n",
    "\n",
    "**(a-1). (2 points):**\n",
    "\n",
    ">Your colleague on education studies really cares about what can improve the education outcome in early childhood. He thinks the ideal planning should be to include as much variables as possible and regress children's educational outcome on the set. Then we select the variables that are shown to be statistically significant and inform the policy makers. Is this approach likely to produce the intended good policies? *(Maximum 300 words.)*\n"
   ]
  },
  {
   "cell_type": "markdown",
   "id": "micro-embassy",
   "metadata": {},
   "source": [
    " "
   ]
  },
  {
   "cell_type": "markdown",
   "id": "responsible-geology",
   "metadata": {},
   "source": [
    "  \n",
    "**(a-2). (3 points):**\n",
    "\n",
    ">Your friend hears your point, and think it makes sense. He also hears about that with more data, relations are less likely to be observed just by chance, and inference becomes more accurate. He asks, if he gets more and more data, will the procedure he proposes find the true effects? *(Maximum 300 words.)*\n"
   ]
  },
  {
   "cell_type": "markdown",
   "id": "useful-diary",
   "metadata": {},
   "source": [
    " "
   ]
  },
  {
   "cell_type": "markdown",
   "id": "twenty-knowing",
   "metadata": {},
   "source": [
    "  \n",
    "**(b-1). (2 points):**\n",
    "\n",
    ">A economist collects data on many nation-wise variables and surprisingly find that if they run a regression between chocolate consumption and number of Nobel prize laureates, the coefficient to be statistically significant. Should he conclude that there exists a relationship between Nobel prize and chocolate consumption? *(Maximum 300 words.)*\n"
   ]
  },
  {
   "cell_type": "markdown",
   "id": "personalized-boundary",
   "metadata": {},
   "source": [
    " "
   ]
  },
  {
   "cell_type": "markdown",
   "id": "military-bahamas",
   "metadata": {},
   "source": [
    "  \n",
    "**(b-2). (2 points):**\n",
    "\n",
    ">A neuroscience lab is interested in how consumption of sugar and coco may effect development of intelligence and brain growth. They collect data on chocolate consumption and number of Nobel prize laureates in each nation, and finds the correlation to be statistically significant. Should they conclude that there exists a relationship between chocolate consumption and intelligence? *(Maximum 300 words.)*\n"
   ]
  },
  {
   "cell_type": "markdown",
   "id": "identical-plastic",
   "metadata": {},
   "source": [
    " "
   ]
  },
  {
   "cell_type": "markdown",
   "id": "cheap-school",
   "metadata": {},
   "source": [
    "  \n",
    "**(b-3). (1 point):**\n",
    "\n",
    ">In order to study the relation between chocolate consumption and intelligence, what can they do? *(Maximum 300 words.)*\n"
   ]
  },
  {
   "cell_type": "markdown",
   "id": "outside-length",
   "metadata": {},
   "source": [
    " "
   ]
  },
  {
   "cell_type": "markdown",
   "id": "filled-spectacular",
   "metadata": {},
   "source": [
    "  \n",
    "**(b-4). (3 points):**\n",
    "\n",
    ">The lab runs a randomized experiment on 100 mice, add chocolate in half of the mice's diet and add in another food of the equivalent calories in another half's diet. They find that the difference between the two groups time in solving a maze puzzle has p-value lower then 0.05. Should they conclude that chocolate consumption leads to improved cognitive power in mice? *(Maximum 300 words.)*\n"
   ]
  },
  {
   "cell_type": "markdown",
   "id": "continental-colony",
   "metadata": {},
   "source": [
    " "
   ]
  },
  {
   "cell_type": "markdown",
   "id": "surgical-defensive",
   "metadata": {},
   "source": [
    "  \n",
    "**(b-5). (3 points):**\n",
    "\n",
    ">The lab collects individual level data on 50000 humans on about 100 features including IQ and chocolate consumption. They find that the relation between chocolate consumption and IQ has a p-value higher than 0.05. However, they find that there are some other variables in the data set that has p-value lower than 0.05, namely, their father's income and number of siblings. So they decide to not write about chocolate consumption, but rather, report these statistically significant results in their paper, and provide possible explanations.\n",
    "\n",
    ">Is this approach correct? *(Maximum 300 words.)*\n"
   ]
  },
  {
   "cell_type": "markdown",
   "id": "selective-recommendation",
   "metadata": {},
   "source": [
    " "
   ]
  },
  {
   "cell_type": "markdown",
   "id": "equal-article",
   "metadata": {},
   "source": [
    "  \n",
    "**(c). (3 points):**\n",
    "\n",
    ">A lab just finishes a randomized controlled trial on 10000 participants for a new drug, and find a treatment effect with p-value smaller than 0.05. After a journalist interviewed the lab, he wrote a news article titled \"New trial shows strong effect of drug X on curing disease Y.\" Is this title appropriate? What about \"New drug proves over 95% success rate of drug X on curing disease Y\"? *(Maximum 300 words.)*\n"
   ]
  },
  {
   "cell_type": "markdown",
   "id": "bacterial-object",
   "metadata": {},
   "source": [
    " "
   ]
  },
  {
   "cell_type": "markdown",
   "id": "distinct-ground",
   "metadata": {},
   "source": [
    "  \n",
    "**(d). (1 point):**\n",
    "\n",
    ">Your boss wants to decide on company's spending next year. He thinks letting each committee debates and propose the budget is too subjective a process and the company should learn from its past and let the fact talk. He gives you the data on expenditure in different sectors and the company's revenue for the past 25 years. You run a regression of the revenue on the spending on HR sector, and find a large effect, but the effect is not statistically significant. Your boss saw the result and says â€œOh, then we shouldn't increase our spending on HR then\".\n",
    "\n",
    ">Is his reasoning right? *(Maximum 300 words.)*\n"
   ]
  },
  {
   "cell_type": "markdown",
   "id": "buried-female",
   "metadata": {},
   "source": [
    " "
   ]
  },
  {
   "cell_type": "markdown",
   "id": "organic-brisbane",
   "metadata": {},
   "source": [
    "  \n",
    "**(e). (1 point):**\n",
    "\n",
    ">Even if a test is shown as significant by replication of the same experiment, we still cannot make a scientific claim.\n",
    "\n",
    ">True or False? *(Maximum 300 words.)*\n"
   ]
  },
  {
   "cell_type": "markdown",
   "id": "foreign-chicago",
   "metadata": {},
   "source": [
    " "
   ]
  },
  {
   "cell_type": "markdown",
   "id": "differential-notification",
   "metadata": {},
   "source": [
    "  \n",
    "**(f). (2 points):**\n",
    "\n",
    ">Your lab mate is writing up his paper. He says if he reports all the tests and hypothesis he has done, the results will be too long, so he wants to report only the statistical significant ones.\n",
    "\n",
    ">Is this OK? If not, why? *(Maximum 300 words.)*\n"
   ]
  },
  {
   "cell_type": "markdown",
   "id": "sonic-serve",
   "metadata": {},
   "source": [
    " "
   ]
  },
  {
   "cell_type": "markdown",
   "id": "prescription-silly",
   "metadata": {},
   "source": [
    "  \n",
    "**(g). (2 points):**\n",
    "\n",
    ">If I see a significant p-values, it could be the case that the null hypothesis is consistent with truth, but my statistical model does not match reality.\n",
    "\n",
    ">True or False? *(Maximum 300 words.)*\n"
   ]
  },
  {
   "cell_type": "markdown",
   "id": "noble-stewart",
   "metadata": {},
   "source": [
    " "
   ]
  },
  {
   "cell_type": "markdown",
   "id": "varied-complex",
   "metadata": {},
   "source": [
    "  \n",
    "### 7. Problem 1.5\n",
    "\n",
    "**(8). (3 points):**\n",
    "\n",
    ">Show that the extent of repeated independent testing by different teams can reduce the probability of the research being true.\n",
    "\n",
    ">Start by writing the PPV as  \n",
    "\n",
    "> $\\displaystyle  \\text {PPV} \\displaystyle = \\frac{\\mathbf{P}(\\textrm{relation exists, at least one of the n repetitions finds significant})}{\\mathbf{P}(\\textrm{at least one of the n repetitions finds significant})}$  \n",
    "\n",
    "> *(Maximum 100 words.)*\n"
   ]
  },
  {
   "cell_type": "markdown",
   "id": "recorded-player",
   "metadata": {},
   "source": [
    " "
   ]
  },
  {
   "cell_type": "markdown",
   "id": "optional-being",
   "metadata": {},
   "source": [
    "  \n",
    "**(9). (2 points):**\n",
    "\n",
    ">What would make bias or increasing teams testing the same hypothesis not decrease PPV? (Assuming  $\\alpha=0.05$.) *(Maximum 100 words.)*\n"
   ]
  },
  {
   "cell_type": "markdown",
   "id": "typical-fighter",
   "metadata": {},
   "source": [
    " "
   ]
  },
  {
   "cell_type": "markdown",
   "id": "sufficient-details",
   "metadata": {},
   "source": [
    "  \n",
    "**(10). (5 points):**\n",
    "\n",
    ">Read critically and critique! Remember the gold rule of science, replication? For the third table in the paper, if researchers work on the same hypothesis but only one team finds significance, the other teams are likely to think the results is not robust, since it is not replicable. In light of this, how would you model the situation when multiple teams work on the same hypothesis and the scientific community requires unanimous replication? What would be the PPV? *(Maximum 100 words.)*\n"
   ]
  },
  {
   "cell_type": "markdown",
   "id": "identical-motorcycle",
   "metadata": {},
   "source": [
    " "
   ]
  },
  {
   "cell_type": "markdown",
   "id": "ancient-samba",
   "metadata": {},
   "source": [
    "  \n",
    "**(11). (3 points):**\n",
    "\n",
    ">Suppose there is no bias and no teams are racing for the same test, so there is no misconduct and poor practices. Will publications still likely to be false than true? *(Maximum 100 words.)*\n"
   ]
  },
  {
   "cell_type": "markdown",
   "id": "invisible-chase",
   "metadata": {},
   "source": [
    " "
   ]
  },
  {
   "cell_type": "markdown",
   "id": "coral-realtor",
   "metadata": {},
   "source": [
    "  \n",
    "**(12). (2 points):**\n",
    "\n",
    ">In light of this paper, let's theoretically model the problem of concern in Problem 1.3! Suppose people base the decision to making scientific claim on p-values, which parameter does this influence?  $R$, $\\alpha$, or $\\beta$? Describe the effect on the PPV if scientists probe random relations and just look at p-value as a certificate for making scientific conclusion. *(Maximum 100 words.)*\n"
   ]
  },
  {
   "cell_type": "markdown",
   "id": "special-niger",
   "metadata": {},
   "source": [
    " "
   ]
  },
  {
   "cell_type": "markdown",
   "id": "banned-postage",
   "metadata": {},
   "source": [
    "  \n"
   ]
  },
  {
   "cell_type": "markdown",
   "id": "raised-produce",
   "metadata": {},
   "source": [
    " "
   ]
  }
 ],
 "metadata": {},
 "nbformat": 4,
 "nbformat_minor": 5
}
